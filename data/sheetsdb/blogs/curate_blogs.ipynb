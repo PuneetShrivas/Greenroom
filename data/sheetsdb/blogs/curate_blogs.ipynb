{
 "cells": [
  {
   "cell_type": "code",
   "execution_count": 2,
   "metadata": {},
   "outputs": [
    {
     "name": "stdout",
     "output_type": "stream",
     "text": [
      "[{'content': 'The red t-shirt with pink jeans might come off as too casual for '\n",
      "             \"a date. It's essential to make a bit more effort to impress your \"\n",
      "             'girlfriend.',\n",
      "  'tag': 'review'},\n",
      " {'content': 'Opt for a lively, printed t-shirt paired with classic denim '\n",
      "             'pants for a more put-together look that still exudes a casual '\n",
      "             'vibe.',\n",
      "  'tag': 'actionable'},\n",
      " {'content': 'Consider adding a pendant or bracelet to accessorize and elevate '\n",
      "             'your outfit for a touch of personal style.',\n",
      "  'tag': 'actionable'},\n",
      " {'content': 'Incorporate a bomber jacket for a stylish layering option that '\n",
      "             'complements your t-shirt and denim ensemble.',\n",
      "  'tag': 'actionable'},\n",
      " {'content': 'Choose sneakers as your footwear choice for a relaxed yet '\n",
      "             'fashionable look that suits a casual date setting.',\n",
      "  'tag': 'actionable'}]\n"
     ]
    }
   ],
   "source": [
    "import json\n",
    "from pprint import pprint\n",
    "response = {\n",
    "  \"response\": {\n",
    "    \"answer\": \"[\\n    {\\n        \\\"tag\\\": \\\"review\\\",\\n        \\\"content\\\": \\\"The red t-shirt with pink jeans might come off as too casual for a date. It's essential to make a bit more effort to impress your girlfriend.\\\"\\n    },\\n    {\\n        \\\"tag\\\": \\\"actionable\\\",\\n        \\\"content\\\": \\\"Opt for a lively, printed t-shirt paired with classic denim pants for a more put-together look that still exudes a casual vibe.\\\"\\n    },\\n    {\\n        \\\"tag\\\": \\\"actionable\\\",\\n        \\\"content\\\": \\\"Consider adding a pendant or bracelet to accessorize and elevate your outfit for a touch of personal style.\\\"\\n    },\\n    {\\n        \\\"tag\\\": \\\"actionable\\\",\\n        \\\"content\\\": \\\"Incorporate a bomber jacket for a stylish layering option that complements your t-shirt and denim ensemble.\\\"\\n    },\\n    {\\n        \\\"tag\\\": \\\"actionable\\\",\\n        \\\"content\\\": \\\"Choose sneakers as your footwear choice for a relaxed yet fashionable look that suits a casual date setting.\\\"\\n    }\\n]\"\n",
    "  }\n",
    "}\n",
    "pprint(json.loads(response[\"response\"][\"answer\"]))\n"
   ]
  }
 ],
 "metadata": {
  "kernelspec": {
   "display_name": "Python 3",
   "language": "python",
   "name": "python3"
  },
  "language_info": {
   "codemirror_mode": {
    "name": "ipython",
    "version": 3
   },
   "file_extension": ".py",
   "mimetype": "text/x-python",
   "name": "python",
   "nbconvert_exporter": "python",
   "pygments_lexer": "ipython3",
   "version": "3.11.9"
  }
 },
 "nbformat": 4,
 "nbformat_minor": 2
}
