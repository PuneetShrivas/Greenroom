{
 "cells": [
  {
   "cell_type": "code",
   "execution_count": 3,
   "metadata": {},
   "outputs": [
    {
     "name": "stdout",
     "output_type": "stream",
     "text": [
      "[{'content': 'Your red t-shirt and pink jeans outfit might not be the best '\n",
      "             \"choice for a date. It's important to make a great first \"\n",
      "             'impression, and this outfit might not convey the desired level '\n",
      "             'of sophistication and style.',\n",
      "  'tag': 'review'},\n",
      " {'content': 'Consider swapping the red t-shirt for a lively, printed t-shirt '\n",
      "             'to add more personality and charm to your look. Pair it with '\n",
      "             'classic denim pants for a more polished appearance.',\n",
      "  'tag': 'actionable'},\n",
      " {'content': 'Add a pendant or a bracelet as accessories to elevate your '\n",
      "             'outfit and show attention to detail. This small addition can '\n",
      "             'make a big difference in your overall look.',\n",
      "  'tag': 'actionable'},\n",
      " {'content': 'Since the weather is expected to be hot with clear skies, opt '\n",
      "             'for breathable fabrics and avoid wearing colors like neon or '\n",
      "             'metallic hues that might be overpowering.',\n",
      "  'tag': 'actionable'},\n",
      " {'content': 'Given your rectangle body type, consider a slim-fit t-shirt '\n",
      "             'tucked into skinny chinos for a more tailored and flattering '\n",
      "             'silhouette.',\n",
      "  'tag': 'actionable'}]\n"
     ]
    }
   ],
   "source": [
    "import json\n",
    "from pprint import pprint\n",
    "response = {\n",
    "  \"response\": {\n",
    "    \"answer\": \"[\\n    {\\n        \\\"tag\\\": \\\"review\\\",\\n        \\\"content\\\": \\\"Your red t-shirt and pink jeans outfit might not be the best choice for a date. It's important to make a great first impression, and this outfit might not convey the desired level of sophistication and style.\\\"\\n    },\\n    {\\n        \\\"tag\\\": \\\"actionable\\\",\\n        \\\"content\\\": \\\"Consider swapping the red t-shirt for a lively, printed t-shirt to add more personality and charm to your look. Pair it with classic denim pants for a more polished appearance.\\\"\\n    },\\n    {\\n        \\\"tag\\\": \\\"actionable\\\",\\n        \\\"content\\\": \\\"Add a pendant or a bracelet as accessories to elevate your outfit and show attention to detail. This small addition can make a big difference in your overall look.\\\"\\n    },\\n    {\\n        \\\"tag\\\": \\\"actionable\\\",\\n        \\\"content\\\": \\\"Since the weather is expected to be hot with clear skies, opt for breathable fabrics and avoid wearing colors like neon or metallic hues that might be overpowering.\\\"\\n    },\\n    {\\n        \\\"tag\\\": \\\"actionable\\\",\\n        \\\"content\\\": \\\"Given your rectangle body type, consider a slim-fit t-shirt tucked into skinny chinos for a more tailored and flattering silhouette.\\\"\\n    }\\n]\"\n",
    "  }\n",
    "}\n",
    "pprint(json.loads(response[\"response\"][\"answer\"]))\n"
   ]
  }
 ],
 "metadata": {
  "kernelspec": {
   "display_name": "Python 3",
   "language": "python",
   "name": "python3"
  },
  "language_info": {
   "codemirror_mode": {
    "name": "ipython",
    "version": 3
   },
   "file_extension": ".py",
   "mimetype": "text/x-python",
   "name": "python",
   "nbconvert_exporter": "python",
   "pygments_lexer": "ipython3",
   "version": "3.11.9"
  }
 },
 "nbformat": 4,
 "nbformat_minor": 2
}
